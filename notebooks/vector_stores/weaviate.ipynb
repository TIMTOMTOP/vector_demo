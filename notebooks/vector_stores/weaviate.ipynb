{
 "cells": [
  {
   "cell_type": "markdown",
   "metadata": {},
   "source": [
    "# Weaviate Vector Store Demo\n",
    "\n",
    "A simple demonstration of using Weaviate for vector similarity search with OpenAI embeddings."
   ]
  },
  {
   "cell_type": "markdown",
   "metadata": {},
   "source": [
    "## Setup\n",
    "Import required libraries and initialize Weaviate and OpenAI clients using environment variables."
   ]
  },
  {
   "cell_type": "code",
   "execution_count": 6,
   "metadata": {},
   "outputs": [],
   "source": [
    "#%%\n",
    "# Pinecone\n",
    "import os\n",
    "import dotenv\n",
    "from tqdm import tqdm\n",
    "from openai import OpenAI\n",
    "import weaviate\n",
    "from weaviate.classes.init import Auth\n",
    "from weaviate.classes.config import Configure\n",
    "\n",
    "\n",
    "dotenv.load_dotenv()\n",
    "\n",
    "\n",
    "openai_client= OpenAI(api_key=os.getenv(\"OPENAI_API_KEY\"))\n",
    "def load_passages(file_path=\"../../data/cat_facts.txt\"):\n",
    "    with open(file_path, 'r') as f:\n",
    "        passages = f.readlines()\n",
    "    return [line.strip() for line in passages]\n",
    "\n",
    "data = load_passages()"
   ]
  },
  {
   "cell_type": "markdown",
   "metadata": {},
   "source": [
    "## Connect to Weaviate\n",
    "Initialize connection to Weaviate Cloud Services (WCS) using API credentials."
   ]
  },
  {
   "cell_type": "code",
   "execution_count": 7,
   "metadata": {},
   "outputs": [
    {
     "name": "stdout",
     "output_type": "stream",
     "text": [
      "True\n"
     ]
    }
   ],
   "source": [
    "wcd_url = os.environ[\"WCD_URL\"]\n",
    "wcd_api_key = os.environ[\"WEAVIATE_API_KEY\"]\n",
    "\n",
    "client_weaviate = weaviate.connect_to_weaviate_cloud(\n",
    "    cluster_url=wcd_url,                                    \n",
    "    auth_credentials=Auth.api_key(wcd_api_key),             \n",
    ")\n",
    "\n",
    "print(client_weaviate.is_ready()) "
   ]
  },
  {
   "cell_type": "markdown",
   "metadata": {},
   "source": [
    "## Create Embeddings\n",
    "Convert text passages into numerical vectors using OpenAI's embedding model."
   ]
  },
  {
   "cell_type": "code",
   "execution_count": 8,
   "metadata": {},
   "outputs": [],
   "source": [
    "def get_openai_embeddings(texts):\n",
    "    \"\"\"\n",
    "    Given a list of texts, return the embeddings from OpenAI.\n",
    "    Using 'text-embedding-ada-002' (or 'text-embedding-3-small' if you have access).\n",
    "    \"\"\"\n",
    "    response = openai_client.embeddings.create(\n",
    "        model=\"text-embedding-ada-002\",\n",
    "        input=texts\n",
    "    )\n",
    "    return response\n",
    "\n",
    "embeddings = get_openai_embeddings(data)"
   ]
  },
  {
   "cell_type": "markdown",
   "metadata": {},
   "source": [
    "## Create Collection\n",
    "Define and create a Weaviate collection schema for storing cat facts with their embeddings."
   ]
  },
  {
   "cell_type": "code",
   "execution_count": 9,
   "metadata": {},
   "outputs": [],
   "source": [
    "catfact_class = {\n",
    "    \"class\": \"CatFact\",\n",
    "    \"description\": \"A class for storing cat facts using user-supplied (OpenAI) embeddings.\",\n",
    "    \"vectorizer\": \"none\",  # We supply our own embeddings; no auto-vectorization\n",
    "    \"properties\": [\n",
    "        {\n",
    "            \"name\": \"fact\",\n",
    "            \"dataType\": [\"text\"],\n",
    "            \"description\": \"A single cat fact\",\n",
    "        }\n",
    "    ]\n",
    "}\n",
    "\n",
    "catfact_collection = client_weaviate.collections.create(\n",
    "    name=\"CatFact\",\n",
    "    vectorizer_config=Configure.Vectorizer.none()  # We'll provide our own embeddings\n",
    ")"
   ]
  },
  {
   "cell_type": "markdown",
   "metadata": {},
   "source": [
    "## Store Vectors\n",
    "Upload embeddings to Weaviate along with their original text using batch processing."
   ]
  },
  {
   "cell_type": "code",
   "execution_count": 10,
   "metadata": {},
   "outputs": [],
   "source": [
    "with catfact_collection.batch.dynamic() as batch:\n",
    "    for i, cat_fact in enumerate(data):\n",
    "        properties = {\"fact\": cat_fact}\n",
    "        vector = embeddings.data[i].embedding\n",
    "\n",
    "        batch.add_object(\n",
    "            properties=properties,\n",
    "            vector=vector\n",
    "        )\n"
   ]
  },
  {
   "cell_type": "markdown",
   "metadata": {},
   "source": [
    "## Query Similar Vectors\n",
    "Demonstrate similarity search by:\n",
    "1. Converting a question into an embedding\n",
    "2. Finding the most similar vectors in our collection"
   ]
  },
  {
   "cell_type": "code",
   "execution_count": 11,
   "metadata": {},
   "outputs": [],
   "source": [
    "user_query = \"Are male cats more likely to be left-pawed?\"\n",
    "q_embed = openai_client.embeddings.create(\n",
    "    model=\"text-embedding-ada-002\",\n",
    "    input=[user_query]\n",
    ")\n",
    "query_vector = q_embed.data[0].embedding\n",
    "\n",
    "results = catfact_collection.query.near_vector(\n",
    "    near_vector=query_vector,\n",
    "    limit=3\n",
    ")"
   ]
  },
  {
   "cell_type": "code",
   "execution_count": 12,
   "metadata": {},
   "outputs": [
    {
     "name": "stdout",
     "output_type": "stream",
     "text": [
      "\n",
      "Top 3 results for query: Are male cats more likely to be left-pawed?\n",
      "- Female cats tend to be right pawed, while male cats are more often left pawed. Interestingly, while 90% of humans are right handed, the remaining 10% of lefties also tend to be male.\n",
      "- Cats have five toes on each front paw, but only four toes on each back paw.\n",
      "- Cats are sometimes born with extra toes. This is called polydactyl. These toes will not harm the cat, but you should keep his claws trimmed just like any toe.\n"
     ]
    }
   ],
   "source": [
    "print(f\"\\nTop 3 results for query: {user_query}\")\n",
    "for obj in results.objects:\n",
    "    print(\"-\", obj.properties[\"fact\"])"
   ]
  },
  {
   "cell_type": "markdown",
   "metadata": {},
   "source": [
    "## Format Results\n",
    "Generate a clear answer using the retrieved facts and OpenAI's language model."
   ]
  },
  {
   "cell_type": "code",
   "execution_count": 14,
   "metadata": {},
   "outputs": [
    {
     "name": "stdout",
     "output_type": "stream",
     "text": [
      "User Query:\n",
      "Are male cats more likely to be left-pawed?\n",
      "AI-Generated Answer:\n",
      "Male cats are more likely to be left-pawed, while female cats tend to be right-pawed.\n"
     ]
    }
   ],
   "source": [
    "response = openai_client.chat.completions.create(\n",
    "    model=\"gpt-3.5-turbo\",\n",
    "    messages=[\n",
    "        {\"role\": \"system\", \"content\": \"You are a helpful assistant. Based on the provided facts, give a concise answer to the question. If the facts don't directly answer the question, say so.\"},\n",
    "        {\"role\": \"user\", \"content\": f\"\"\"\n",
    "Question: {user_query}\n",
    "\n",
    "Relevant facts found:\n",
    "{[match.properties[\"fact\"] for match in results.objects]}\n",
    "\n",
    "Please provide a brief, clear answer based on these facts.\"\"\"}\n",
    "    ]\n",
    ")\n",
    "print(\"User Query:\")\n",
    "print(user_query)\n",
    "print(\"AI-Generated Answer:\")\n",
    "print(response.choices[0].message.content)"
   ]
  },
  {
   "cell_type": "code",
   "execution_count": null,
   "metadata": {},
   "outputs": [],
   "source": []
  }
 ],
 "metadata": {
  "kernelspec": {
   "display_name": "venv",
   "language": "python",
   "name": "python3"
  },
  "language_info": {
   "codemirror_mode": {
    "name": "ipython",
    "version": 3
   },
   "file_extension": ".py",
   "mimetype": "text/x-python",
   "name": "python",
   "nbconvert_exporter": "python",
   "pygments_lexer": "ipython3",
   "version": "3.13.0"
  }
 },
 "nbformat": 4,
 "nbformat_minor": 2
}
