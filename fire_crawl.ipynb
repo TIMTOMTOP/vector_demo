{
 "cells": [
  {
   "cell_type": "code",
   "execution_count": 18,
   "metadata": {},
   "outputs": [],
   "source": [
    "# Install with pip install firecrawl-py\n",
    "from firecrawl import FirecrawlApp\n",
    "import os\n",
    "import dotenv\n",
    "from typing import List\n",
    "dotenv.load_dotenv()\n",
    "\n",
    "app = FirecrawlApp(api_key=os.getenv(\"FIRECRAWL_API_KEY\"))"
   ]
  },
  {
   "cell_type": "code",
   "execution_count": null,
   "metadata": {},
   "outputs": [],
   "source": [
    "def scrape_url(dict:str, url:List[str]):\n",
    "    for url in url:\n",
    "        crawl_result = app.scrape_url(url,  params={'formats': [ 'markdown' ],})\n",
    "        with open(f\"notebooks/chatbot/{dict}/{url.split('/')[-1]}.md\", \"w\") as f:\n",
    "            f.write(crawl_result['markdown'])\n"
   ]
  },
  {
   "cell_type": "code",
   "execution_count": null,
   "metadata": {},
   "outputs": [],
   "source": [
    "urls=[\"https://docs.anthropic.com/en/docs/build-with-claude/embeddings\",\n",
    "      \"https://docs.anthropic.com/en/docs/build-with-claude/vision\",\n",
    "      \"https://docs.anthropic.com/en/docs/build-with-claude/tool-use\",\n",
    "      \"https://docs.anthropic.com/en/docs/build-with-claude/prompt-caching\",\n",
    "      \"https://docs.anthropic.com/en/docs/build-with-claude/message-batches\",\n",
    "      \"https://docs.anthropic.com/en/docs/build-with-claude/pdf-support\"\n",
    "]\n",
    "\n",
    "scrape_url(\"Anthropic\", urls)"
   ]
  },
  {
   "cell_type": "code",
   "execution_count": 16,
   "metadata": {},
   "outputs": [],
   "source": [
    "urls= [\"https://platform.openai.com/docs/guides/vision\",\n",
    "       \"https://platform.openai.com/docs/guides/embeddings\",\n",
    "       \"https://platform.openai.com/docs/guides/moderation\",\n",
    "       \"https://platform.openai.com/docs/guides/reasoning\",\n",
    "       \"https://platform.openai.com/docs/guides/function-calling\",\n",
    "       \"https://platform.openai.com/docs/guides/text-generation\"]\n",
    "\n",
    "scrape_url(\"OpenAI\", urls)"
   ]
  }
 ],
 "metadata": {
  "kernelspec": {
   "display_name": "venv",
   "language": "python",
   "name": "python3"
  },
  "language_info": {
   "codemirror_mode": {
    "name": "ipython",
    "version": 3
   },
   "file_extension": ".py",
   "mimetype": "text/x-python",
   "name": "python",
   "nbconvert_exporter": "python",
   "pygments_lexer": "ipython3",
   "version": "3.13.0"
  }
 },
 "nbformat": 4,
 "nbformat_minor": 2
}
