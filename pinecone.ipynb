{
 "cells": [
  {
   "cell_type": "markdown",
   "metadata": {},
   "source": [
    "# Pinecone Vector Store Demo\n",
    "\n",
    "A simple demonstration of using Pinecone for vector similarity search with OpenAI embeddings."
   ]
  },
  {
   "cell_type": "markdown",
   "metadata": {},
   "source": [
    "## Setup\n",
    "Import required libraries and initialize Pinecone and OpenAI clients using environment variables."
   ]
  },
  {
   "cell_type": "code",
   "execution_count": 1,
   "metadata": {},
   "outputs": [
    {
     "name": "stderr",
     "output_type": "stream",
     "text": [
      "/Users/tomas/tool_box/venv/lib/python3.13/site-packages/pinecone/data/index.py:1: TqdmWarning: IProgress not found. Please update jupyter and ipywidgets. See https://ipywidgets.readthedocs.io/en/stable/user_install.html\n",
      "  from tqdm.autonotebook import tqdm\n"
     ]
    }
   ],
   "source": [
    "from pinecone import Pinecone, ServerlessSpec\n",
    "import os\n",
    "import dotenv\n",
    "import json\n",
    "from tqdm import tqdm\n",
    "from openai import OpenAI\n"
   ]
  },
  {
   "cell_type": "markdown",
   "metadata": {},
   "source": [
    "## Load Data\n",
    "Load text passages from a file. Each line will be converted into an embedding."
   ]
  },
  {
   "cell_type": "code",
   "execution_count": 2,
   "metadata": {},
   "outputs": [],
   "source": [
    "dotenv.load_dotenv()\n",
    "\n",
    "pc = Pinecone(api_key=os.getenv(\"PINECONE_API_KEY\"))\n",
    "\n",
    "client= OpenAI(api_key=os.getenv(\"OPENAI_API_KEY\"))\n",
    "\n",
    "def load_passages(file_path=\"data/cat_facts.txt\"):\n",
    "    with open(file_path, 'r') as f:\n",
    "        passages = f.readlines()\n",
    "    return [line.strip() for line in passages]"
   ]
  },
  {
   "cell_type": "code",
   "execution_count": 3,
   "metadata": {},
   "outputs": [],
   "source": [
    "data=load_passages()"
   ]
  },
  {
   "cell_type": "markdown",
   "metadata": {},
   "source": [
    "## Create Embeddings\n",
    "Convert text passages into numerical vectors using OpenAI's embedding model."
   ]
  },
  {
   "cell_type": "code",
   "execution_count": 4,
   "metadata": {},
   "outputs": [
    {
     "name": "stdout",
     "output_type": "stream",
     "text": [
      "Created 150 embeddings\n"
     ]
    }
   ],
   "source": [
    "embeddings = client.embeddings.create(\n",
    "    model=\"text-embedding-3-small\",\n",
    "    input=data\n",
    ")\n",
    "print(f\"Created {len(embeddings.data)} embeddings\")"
   ]
  },
  {
   "cell_type": "markdown",
   "metadata": {},
   "source": [
    "## Initialize Pinecone Index\n",
    "Create a new serverless index in Pinecone to store our vectors."
   ]
  },
  {
   "cell_type": "code",
   "execution_count": 6,
   "metadata": {},
   "outputs": [],
   "source": [
    "index_name = \"showcase-index\"\n",
    "\n",
    "pc.create_index(\n",
    "    name=index_name,\n",
    "    dimension=1536,\n",
    "    metric=\"cosine\",\n",
    "    spec=ServerlessSpec(\n",
    "        cloud=\"aws\",\n",
    "        region=\"us-east-1\",\n",
    "    )\n",
    ")\n",
    "\n",
    "index=pc.Index(index_name)"
   ]
  },
  {
   "cell_type": "markdown",
   "metadata": {},
   "source": [
    "## Store Vectors\n",
    "Upload embeddings to Pinecone, along with their original text as metadata."
   ]
  },
  {
   "cell_type": "code",
   "execution_count": 7,
   "metadata": {},
   "outputs": [
    {
     "data": {
      "text/plain": [
       "{'upserted_count': 150}"
      ]
     },
     "execution_count": 7,
     "metadata": {},
     "output_type": "execute_result"
    }
   ],
   "source": [
    "vectors = [\n",
    "    {\n",
    "        \"id\": str(i),  # Convert to string as Pinecone expects string IDs\n",
    "        \"values\": embedding.embedding,  # Get the actual embedding array\n",
    "        \"metadata\": {\n",
    "            \"text\": data[i]\n",
    "        }\n",
    "    }\n",
    "    for i, embedding in enumerate(embeddings.data)\n",
    "]\n",
    "\n",
    "# Now upsert the properly formatted vectors\n",
    "index.upsert(vectors=vectors)"
   ]
  },
  {
   "cell_type": "markdown",
   "metadata": {},
   "source": [
    "## Query Similar Vectors\n",
    "Demonstrate similarity search by:\n",
    "1. Converting a question into an embedding\n",
    "2. Finding the most similar vectors in our index"
   ]
  },
  {
   "cell_type": "code",
   "execution_count": 8,
   "metadata": {},
   "outputs": [
    {
     "name": "stdout",
     "output_type": "stream",
     "text": [
      "{'matches': [{'id': '5',\n",
      "              'metadata': {'text': 'Female cats tend to be right pawed, while '\n",
      "                                   'male cats are more often left pawed. '\n",
      "                                   'Interestingly, while 90% of humans are '\n",
      "                                   'right handed, the remaining 10% of lefties '\n",
      "                                   'also tend to be male.'},\n",
      "              'score': 0.839994252,\n",
      "              'values': []},\n",
      "             {'id': '97',\n",
      "              'metadata': {'text': 'Cats have five toes on each front paw, but '\n",
      "                                   'only four toes on each back paw.'},\n",
      "              'score': 0.53766048,\n",
      "              'values': []},\n",
      "             {'id': '98',\n",
      "              'metadata': {'text': 'Cats are sometimes born with extra toes. '\n",
      "                                   'This is called polydactyl. These toes will '\n",
      "                                   'not harm the cat, but you should keep his '\n",
      "                                   'claws trimmed just like any toe.'},\n",
      "              'score': 0.519716799,\n",
      "              'values': []}],\n",
      " 'namespace': '',\n",
      " 'usage': {'read_units': 6}}\n"
     ]
    }
   ],
   "source": [
    "# Define your query\n",
    "query = \"Are male cats more likely to be left-pawed?\"\n",
    "\n",
    "# Convert the query into a numerical vector that Pinecone can search with\n",
    "query_embedding = client.embeddings.create(\n",
    "    model=\"text-embedding-3-small\",\n",
    "    input=[query]\n",
    ")\n",
    "\n",
    "# Search the index for the three most similar vectors\n",
    "results = index.query(\n",
    "    vector=query_embedding.data[0].embedding,\n",
    "    top_k=3,\n",
    "    include_values=False,\n",
    "    include_metadata=True\n",
    ")\n",
    "\n",
    "print(results)"
   ]
  },
  {
   "cell_type": "markdown",
   "metadata": {},
   "source": [
    "## Format Results\n",
    "Generate a clear answer using the retrieved facts and OpenAI's language model."
   ]
  },
  {
   "cell_type": "code",
   "execution_count": 10,
   "metadata": {},
   "outputs": [
    {
     "name": "stdout",
     "output_type": "stream",
     "text": [
      "User Query:\n",
      "Are male cats more likely to be left-pawed?\n",
      "AI-Generated Answer:\n",
      "Yes, male cats are more likely to be left-pawed.\n"
     ]
    }
   ],
   "source": [
    "\n",
    "# Optional: Use OpenAI to generate a summarized answer\n",
    "response = client.chat.completions.create(\n",
    "    model=\"gpt-3.5-turbo\",\n",
    "    messages=[\n",
    "        {\"role\": \"system\", \"content\": \"You are a helpful assistant. Based on the provided facts, give a concise answer to the question. If the facts don't directly answer the question, say so.\"},\n",
    "        {\"role\": \"user\", \"content\": f\"\"\"\n",
    "Question: {query}\n",
    "\n",
    "Relevant facts found:\n",
    "{[match['metadata']['text'] for match in results['matches']]}\n",
    "\n",
    "Please provide a brief, clear answer based on these facts.\"\"\"}\n",
    "    ]\n",
    ")\n",
    "print(\"User Query:\")\n",
    "print(query)\n",
    "print(\"AI-Generated Answer:\")\n",
    "print(response.choices[0].message.content)\n"
   ]
  },
  {
   "cell_type": "code",
   "execution_count": null,
   "metadata": {},
   "outputs": [],
   "source": []
  }
 ],
 "metadata": {
  "kernelspec": {
   "display_name": "venv",
   "language": "python",
   "name": "python3"
  },
  "language_info": {
   "codemirror_mode": {
    "name": "ipython",
    "version": 3
   },
   "file_extension": ".py",
   "mimetype": "text/x-python",
   "name": "python",
   "nbconvert_exporter": "python",
   "pygments_lexer": "ipython3",
   "version": "3.13.0"
  }
 },
 "nbformat": 4,
 "nbformat_minor": 2
}
